{
 "cells": [
  {
   "cell_type": "code",
   "execution_count": 1,
   "metadata": {},
   "outputs": [],
   "source": [
    "import urllib\n",
    "import arxiv\n",
    "import requests\n",
    "import json\n",
    "import csv\n",
    "import pandas as pd\n",
    "from collections import Counter, defaultdict\n",
    "import numpy as np # for array manipulation\n",
    "import matplotlib.pyplot as plt # for data visualization\n",
    "%matplotlib inline \n",
    "import datetime\n",
    "from tqdm import tqdm"
   ]
  },
  {
   "cell_type": "code",
   "execution_count": null,
   "metadata": {},
   "outputs": [
    {
     "name": "stdout",
     "output_type": "stream",
     "text": [
      "\n",
      "Fetching papers from category: cs.AI\n",
      "papser length: 2 | search result: 2\n",
      "\n",
      "Fetching papers from category: cs.DB\n",
      "papser length: 4 | search result: 2\n",
      "\n",
      "Fetching papers from category: cs.CE\n",
      "papser length: 6 | search result: 2\n",
      "\n",
      "Fetching papers from category: cs.CC\n",
      "papser length: 8 | search result: 2\n",
      "\n",
      "Fetching papers from category: cs.CV\n",
      "papser length: 10 | search result: 2\n",
      "\n",
      "Fetching papers from category: cs.DC\n",
      "papser length: 12 | search result: 2\n",
      "\n",
      "Fetching papers from category: cs.DS\n",
      "papser length: 14 | search result: 2\n",
      "\n",
      "Fetching papers from category: cs.GT\n",
      "papser length: 16 | search result: 2\n",
      "\n",
      "Fetching papers from category: cs.LG\n",
      "papser length: 18 | search result: 2\n",
      "\n",
      "Fetching papers from category: cs.MA\n",
      "papser length: 20 | search result: 2\n",
      "\n",
      "Fetching papers from category: cs.NE\n",
      "papser length: 22 | search result: 2\n",
      "\n",
      "Fetching papers from category: cs.SE\n",
      "papser length: 24 | search result: 2\n"
     ]
    }
   ],
   "source": [
    "import urllib.parse\n",
    "import urllib.request\n",
    "import xml.etree.ElementTree as ET\n",
    "\n",
    "def search_arxiv_by_category(category, max_results=10):\n",
    "    \"\"\"\n",
    "    Search arXiv papers by category\n",
    "    \n",
    "    Args:\n",
    "        category (str): arXiv category (e.g., 'cs.AI', 'physics.comp-ph')\n",
    "        max_results (int): Maximum number of results to return\n",
    "        \n",
    "    Returns:\n",
    "        list: List of dictionaries containing paper details\n",
    "    \"\"\"\n",
    "    base_url = 'http://export.arxiv.org/api/query?'\n",
    "    \n",
    "    # Construct the query\n",
    "    search_query = f'cat:{category}'\n",
    "    \n",
    "    # Parameters for the API request\n",
    "    params = {\n",
    "        'search_query': search_query,\n",
    "        'start': 0,\n",
    "        'max_results': max_results,\n",
    "        'sortBy': 'submittedDate',\n",
    "        'sortOrder': 'descending'\n",
    "    }\n",
    "    \n",
    "    # Construct the full URL\n",
    "    query_url = base_url + urllib.parse.urlencode(params)\n",
    "    \n",
    "    # Make the request\n",
    "    response = urllib.request.urlopen(query_url)\n",
    "    data = response.read().decode('utf-8')\n",
    "    \n",
    "    # Parse the XML response\n",
    "    root = ET.fromstring(data)\n",
    "    \n",
    "    # Define the XML namespace\n",
    "    namespace = {'arxiv': 'http://www.w3.org/2005/Atom'}\n",
    "    \n",
    "    # Extract paper information\n",
    "    papers = []\n",
    "    for entry in root.findall('arxiv:entry', namespace):\n",
    "        paper = {\n",
    "            'title': entry.find('arxiv:title', namespace).text.strip(),\n",
    "            'authors': [author.find('arxiv:name', namespace).text for author in entry.findall('arxiv:author', namespace)],\n",
    "            'published': entry.find('arxiv:published', namespace).text,\n",
    "            'summary': entry.find('arxiv:summary', namespace).text.strip(),\n",
    "            'link': entry.find('arxiv:id', namespace).text\n",
    "        }\n",
    "        papers.append(paper)\n",
    "    \n",
    "    return papers, entry\n",
    "\n",
    "\n",
    "categories = [\"cs.AI\", \"cs.DB\", \"cs.CE\", \"cs.CC\", \"cs.CV\", \"cs.DC\", \"cs.DS\", \"cs.GT\", \"cs.LG\", \"cs.MA\", \"cs.NE\", \"cs.SE\"]\n",
    "# categories = [\"cs.*\"]\n",
    "\n",
    "papers = []\n",
    "for category in categories:\n",
    "    print(f\"\\nFetching papers from category: {category}\")\n",
    "    paper_results = search_arxiv_by_category(category, max_results=3000)\n",
    "    papers.extend([p for p in paper_results])\n",
    "    print(f\"papser length: {len(papers)} | search result: {len(paper_results)}\")"
   ]
  },
  {
   "cell_type": "code",
   "execution_count": 7,
   "metadata": {},
   "outputs": [],
   "source": [
    "paper_result, entry = paper_results"
   ]
  },
  {
   "cell_type": "code",
   "execution_count": 8,
   "metadata": {},
   "outputs": [
    {
     "data": {
      "text/plain": [
       "<Element '{http://www.w3.org/2005/Atom}entry' at 0x16a0d3830>"
      ]
     },
     "execution_count": 8,
     "metadata": {},
     "output_type": "execute_result"
    }
   ],
   "source": [
    "entry"
   ]
  },
  {
   "cell_type": "code",
   "execution_count": 4,
   "metadata": {},
   "outputs": [
    {
     "data": {
      "text/plain": [
       "{'title': 'Textured Gaussians for Enhanced 3D Scene Appearance Modeling',\n",
       " 'authors': ['Brian Chao',\n",
       "  'Hung-Yu Tseng',\n",
       "  'Lorenzo Porzi',\n",
       "  'Chen Gao',\n",
       "  'Tuotuo Li',\n",
       "  'Qinbo Li',\n",
       "  'Ayush Saraf',\n",
       "  'Jia-Bin Huang',\n",
       "  'Johannes Kopf',\n",
       "  'Gordon Wetzstein',\n",
       "  'Changil Kim'],\n",
       " 'published': '2024-11-27T18:59:59Z',\n",
       " 'summary': '3D Gaussian Splatting (3DGS) has recently emerged as a state-of-the-art 3D\\nreconstruction and rendering technique due to its high-quality results and fast\\ntraining and rendering time. However, pixels covered by the same Gaussian are\\nalways shaded in the same color up to a Gaussian falloff scaling factor.\\nFurthermore, the finest geometric detail any individual Gaussian can represent\\nis a simple ellipsoid. These properties of 3DGS greatly limit the expressivity\\nof individual Gaussian primitives. To address these issues, we draw inspiration\\nfrom texture and alpha mapping in traditional graphics and integrate it with\\n3DGS. Specifically, we propose a new generalized Gaussian appearance\\nrepresentation that augments each Gaussian with alpha~(A), RGB, or RGBA texture\\nmaps to model spatially varying color and opacity across the extent of each\\nGaussian. As such, each Gaussian can represent a richer set of texture patterns\\nand geometric structures, instead of just a single color and ellipsoid as in\\nnaive Gaussian Splatting. Surprisingly, we found that the expressivity of\\nGaussians can be greatly improved by using alpha-only texture maps, and further\\naugmenting Gaussians with RGB texture maps achieves the highest expressivity.\\nWe validate our method on a wide variety of standard benchmark datasets and our\\nown custom captures at both the object and scene levels. We demonstrate image\\nquality improvements over existing methods while using a similar or lower\\nnumber of Gaussians.',\n",
       " 'link': 'http://arxiv.org/abs/2411.18625v1'}"
      ]
     },
     "execution_count": 4,
     "metadata": {},
     "output_type": "execute_result"
    }
   ],
   "source": [
    "paper_results[0]"
   ]
  },
  {
   "cell_type": "code",
   "execution_count": 15,
   "metadata": {},
   "outputs": [
    {
     "data": {
      "text/plain": [
       "{'title': 'Textured Gaussians for Enhanced 3D Scene Appearance Modeling',\n",
       " 'authors': ['Brian Chao',\n",
       "  'Hung-Yu Tseng',\n",
       "  'Lorenzo Porzi',\n",
       "  'Chen Gao',\n",
       "  'Tuotuo Li',\n",
       "  'Qinbo Li',\n",
       "  'Ayush Saraf',\n",
       "  'Jia-Bin Huang',\n",
       "  'Johannes Kopf',\n",
       "  'Gordon Wetzstein',\n",
       "  'Changil Kim'],\n",
       " 'published': '2024-11-27T18:59:59Z',\n",
       " 'summary': '3D Gaussian Splatting (3DGS) has recently emerged as a state-of-the-art 3D\\nreconstruction and rendering technique due to its high-quality results and fast\\ntraining and rendering time. However, pixels covered by the same Gaussian are\\nalways shaded in the same color up to a Gaussian falloff scaling factor.\\nFurthermore, the finest geometric detail any individual Gaussian can represent\\nis a simple ellipsoid. These properties of 3DGS greatly limit the expressivity\\nof individual Gaussian primitives. To address these issues, we draw inspiration\\nfrom texture and alpha mapping in traditional graphics and integrate it with\\n3DGS. Specifically, we propose a new generalized Gaussian appearance\\nrepresentation that augments each Gaussian with alpha~(A), RGB, or RGBA texture\\nmaps to model spatially varying color and opacity across the extent of each\\nGaussian. As such, each Gaussian can represent a richer set of texture patterns\\nand geometric structures, instead of just a single color and ellipsoid as in\\nnaive Gaussian Splatting. Surprisingly, we found that the expressivity of\\nGaussians can be greatly improved by using alpha-only texture maps, and further\\naugmenting Gaussians with RGB texture maps achieves the highest expressivity.\\nWe validate our method on a wide variety of standard benchmark datasets and our\\nown custom captures at both the object and scene levels. We demonstrate image\\nquality improvements over existing methods while using a similar or lower\\nnumber of Gaussians.',\n",
       " 'link': 'http://arxiv.org/abs/2411.18625v1'}"
      ]
     },
     "execution_count": 15,
     "metadata": {},
     "output_type": "execute_result"
    }
   ],
   "source": [
    "paper_results[0]"
   ]
  },
  {
   "cell_type": "code",
   "execution_count": 3,
   "metadata": {},
   "outputs": [
    {
     "name": "stderr",
     "output_type": "stream",
     "text": [
      "100%|██████████| 13573/13573 [00:00<00:00, 447863.62it/s]\n"
     ]
    },
    {
     "data": {
      "text/html": [
       "<div>\n",
       "<style scoped>\n",
       "    .dataframe tbody tr th:only-of-type {\n",
       "        vertical-align: middle;\n",
       "    }\n",
       "\n",
       "    .dataframe tbody tr th {\n",
       "        vertical-align: top;\n",
       "    }\n",
       "\n",
       "    .dataframe thead th {\n",
       "        text-align: right;\n",
       "    }\n",
       "</style>\n",
       "<table border=\"1\" class=\"dataframe\">\n",
       "  <thead>\n",
       "    <tr style=\"text-align: right;\">\n",
       "      <th></th>\n",
       "      <th>title</th>\n",
       "      <th>authors</th>\n",
       "      <th>abstract</th>\n",
       "      <th>published</th>\n",
       "      <th>link</th>\n",
       "    </tr>\n",
       "  </thead>\n",
       "  <tbody>\n",
       "    <tr>\n",
       "      <th>0</th>\n",
       "      <td>Cross-modal Information Flow in Multimodal Lar...</td>\n",
       "      <td>[Zhi Zhang, Srishti Yadav, Fengze Han, Ekateri...</td>\n",
       "      <td>The recent advancements in auto-regressive mul...</td>\n",
       "      <td>2024-11-27T18:59:26Z</td>\n",
       "      <td>http://arxiv.org/abs/2411.18620v1</td>\n",
       "    </tr>\n",
       "    <tr>\n",
       "      <th>1</th>\n",
       "      <td>Diffusion Self-Distillation for Zero-Shot Cust...</td>\n",
       "      <td>[Shengqu Cai, Eric Chan, Yunzhi Zhang, Leonida...</td>\n",
       "      <td>Text-to-image diffusion models produce impress...</td>\n",
       "      <td>2024-11-27T18:58:52Z</td>\n",
       "      <td>http://arxiv.org/abs/2411.18616v1</td>\n",
       "    </tr>\n",
       "    <tr>\n",
       "      <th>2</th>\n",
       "      <td>Proactive Gradient Conflict Mitigation in Mult...</td>\n",
       "      <td>[Zhi Zhang, Jiayi Shen, Congfeng Cao, Gaole Da...</td>\n",
       "      <td>Advancing towards generalist agents necessitat...</td>\n",
       "      <td>2024-11-27T18:58:22Z</td>\n",
       "      <td>http://arxiv.org/abs/2411.18615v1</td>\n",
       "    </tr>\n",
       "    <tr>\n",
       "      <th>3</th>\n",
       "      <td>Robust Offline Reinforcement Learning with Lin...</td>\n",
       "      <td>[Cheng Tang, Zhishuai Liu, Pan Xu]</td>\n",
       "      <td>The Distributionally Robust Markov Decision Pr...</td>\n",
       "      <td>2024-11-27T18:57:03Z</td>\n",
       "      <td>http://arxiv.org/abs/2411.18612v1</td>\n",
       "    </tr>\n",
       "    <tr>\n",
       "      <th>4</th>\n",
       "      <td>Automated Literature Review Using NLP Techniqu...</td>\n",
       "      <td>[Nurshat Fateh Ali, Md. Mahdi Mohtasim, Shakil...</td>\n",
       "      <td>This research presents and compares multiple a...</td>\n",
       "      <td>2024-11-27T18:27:07Z</td>\n",
       "      <td>http://arxiv.org/abs/2411.18583v1</td>\n",
       "    </tr>\n",
       "  </tbody>\n",
       "</table>\n",
       "</div>"
      ],
      "text/plain": [
       "                                               title  \\\n",
       "0  Cross-modal Information Flow in Multimodal Lar...   \n",
       "1  Diffusion Self-Distillation for Zero-Shot Cust...   \n",
       "2  Proactive Gradient Conflict Mitigation in Mult...   \n",
       "3  Robust Offline Reinforcement Learning with Lin...   \n",
       "4  Automated Literature Review Using NLP Techniqu...   \n",
       "\n",
       "                                             authors  \\\n",
       "0  [Zhi Zhang, Srishti Yadav, Fengze Han, Ekateri...   \n",
       "1  [Shengqu Cai, Eric Chan, Yunzhi Zhang, Leonida...   \n",
       "2  [Zhi Zhang, Jiayi Shen, Congfeng Cao, Gaole Da...   \n",
       "3                 [Cheng Tang, Zhishuai Liu, Pan Xu]   \n",
       "4  [Nurshat Fateh Ali, Md. Mahdi Mohtasim, Shakil...   \n",
       "\n",
       "                                            abstract             published  \\\n",
       "0  The recent advancements in auto-regressive mul...  2024-11-27T18:59:26Z   \n",
       "1  Text-to-image diffusion models produce impress...  2024-11-27T18:58:52Z   \n",
       "2  Advancing towards generalist agents necessitat...  2024-11-27T18:58:22Z   \n",
       "3  The Distributionally Robust Markov Decision Pr...  2024-11-27T18:57:03Z   \n",
       "4  This research presents and compares multiple a...  2024-11-27T18:27:07Z   \n",
       "\n",
       "                                link  \n",
       "0  http://arxiv.org/abs/2411.18620v1  \n",
       "1  http://arxiv.org/abs/2411.18616v1  \n",
       "2  http://arxiv.org/abs/2411.18615v1  \n",
       "3  http://arxiv.org/abs/2411.18612v1  \n",
       "4  http://arxiv.org/abs/2411.18583v1  "
      ]
     },
     "execution_count": 3,
     "metadata": {},
     "output_type": "execute_result"
    }
   ],
   "source": [
    "paper_dict = {\n",
    "    \"title\": [],\n",
    "    \"authors\": [],\n",
    "    \"abstract\": [],\n",
    "    \"published\": [],\n",
    "    \"link\": []\n",
    "}\n",
    "\n",
    "for p in tqdm(papers):\n",
    "    paper_dict[\"title\"].append(p[\"title\"])\n",
    "    paper_dict[\"authors\"].append(p[\"authors\"])\n",
    "    paper_dict[\"abstract\"].append(p[\"summary\"])\n",
    "    paper_dict[\"published\"].append(p[\"published\"])\n",
    "    paper_dict[\"link\"].append(p[\"link\"])\n",
    "\n",
    "paper_df = pd.DataFrame(paper_dict)\n",
    "\n",
    "paper_df.head()"
   ]
  },
  {
   "cell_type": "code",
   "execution_count": 4,
   "metadata": {},
   "outputs": [],
   "source": [
    "paper_df.to_csv(\"./paper_df_arxiv_large.csv\", index=False)"
   ]
  },
  {
   "cell_type": "code",
   "execution_count": 5,
   "metadata": {},
   "outputs": [
    {
     "data": {
      "text/plain": [
       "(13573, 5)"
      ]
     },
     "execution_count": 5,
     "metadata": {},
     "output_type": "execute_result"
    }
   ],
   "source": [
    "df_tmp = pd.read_csv('/Users/11488608/Documents/master_degree/dsde/paper_search/scripts/paper_df_arxiv_large.csv')\n",
    "\n",
    "df_tmp.shape"
   ]
  },
  {
   "cell_type": "code",
   "execution_count": null,
   "metadata": {},
   "outputs": [],
   "source": []
  }
 ],
 "metadata": {
  "kernelspec": {
   "display_name": "base",
   "language": "python",
   "name": "python3"
  },
  "language_info": {
   "codemirror_mode": {
    "name": "ipython",
    "version": 3
   },
   "file_extension": ".py",
   "mimetype": "text/x-python",
   "name": "python",
   "nbconvert_exporter": "python",
   "pygments_lexer": "ipython3",
   "version": "3.12.4"
  }
 },
 "nbformat": 4,
 "nbformat_minor": 2
}
