{
 "cells": [
  {
   "cell_type": "code",
   "execution_count": 16,
   "metadata": {},
   "outputs": [],
   "source": [
    "import pandas as pd\n",
    "import requests\n",
    "from tqdm import tqdm\n",
    "import ast"
   ]
  },
  {
   "cell_type": "code",
   "execution_count": 2,
   "metadata": {},
   "outputs": [
    {
     "data": {
      "text/html": [
       "<div>\n",
       "<style scoped>\n",
       "    .dataframe tbody tr th:only-of-type {\n",
       "        vertical-align: middle;\n",
       "    }\n",
       "\n",
       "    .dataframe tbody tr th {\n",
       "        vertical-align: top;\n",
       "    }\n",
       "\n",
       "    .dataframe thead th {\n",
       "        text-align: right;\n",
       "    }\n",
       "</style>\n",
       "<table border=\"1\" class=\"dataframe\">\n",
       "  <thead>\n",
       "    <tr style=\"text-align: right;\">\n",
       "      <th></th>\n",
       "      <th>title</th>\n",
       "      <th>authors</th>\n",
       "      <th>abstract</th>\n",
       "      <th>published</th>\n",
       "      <th>link</th>\n",
       "    </tr>\n",
       "  </thead>\n",
       "  <tbody>\n",
       "    <tr>\n",
       "      <th>0</th>\n",
       "      <td>Cross-modal Information Flow in Multimodal Lar...</td>\n",
       "      <td>['Zhi Zhang', 'Srishti Yadav', 'Fengze Han', '...</td>\n",
       "      <td>The recent advancements in auto-regressive mul...</td>\n",
       "      <td>2024-11-27T18:59:26Z</td>\n",
       "      <td>http://arxiv.org/abs/2411.18620v1</td>\n",
       "    </tr>\n",
       "    <tr>\n",
       "      <th>1</th>\n",
       "      <td>Diffusion Self-Distillation for Zero-Shot Cust...</td>\n",
       "      <td>['Shengqu Cai', 'Eric Chan', 'Yunzhi Zhang', '...</td>\n",
       "      <td>Text-to-image diffusion models produce impress...</td>\n",
       "      <td>2024-11-27T18:58:52Z</td>\n",
       "      <td>http://arxiv.org/abs/2411.18616v1</td>\n",
       "    </tr>\n",
       "    <tr>\n",
       "      <th>2</th>\n",
       "      <td>Proactive Gradient Conflict Mitigation in Mult...</td>\n",
       "      <td>['Zhi Zhang', 'Jiayi Shen', 'Congfeng Cao', 'G...</td>\n",
       "      <td>Advancing towards generalist agents necessitat...</td>\n",
       "      <td>2024-11-27T18:58:22Z</td>\n",
       "      <td>http://arxiv.org/abs/2411.18615v1</td>\n",
       "    </tr>\n",
       "    <tr>\n",
       "      <th>3</th>\n",
       "      <td>Robust Offline Reinforcement Learning with Lin...</td>\n",
       "      <td>['Cheng Tang', 'Zhishuai Liu', 'Pan Xu']</td>\n",
       "      <td>The Distributionally Robust Markov Decision Pr...</td>\n",
       "      <td>2024-11-27T18:57:03Z</td>\n",
       "      <td>http://arxiv.org/abs/2411.18612v1</td>\n",
       "    </tr>\n",
       "    <tr>\n",
       "      <th>4</th>\n",
       "      <td>Automated Literature Review Using NLP Techniqu...</td>\n",
       "      <td>['Nurshat Fateh Ali', 'Md. Mahdi Mohtasim', 'S...</td>\n",
       "      <td>This research presents and compares multiple a...</td>\n",
       "      <td>2024-11-27T18:27:07Z</td>\n",
       "      <td>http://arxiv.org/abs/2411.18583v1</td>\n",
       "    </tr>\n",
       "  </tbody>\n",
       "</table>\n",
       "</div>"
      ],
      "text/plain": [
       "                                               title  \\\n",
       "0  Cross-modal Information Flow in Multimodal Lar...   \n",
       "1  Diffusion Self-Distillation for Zero-Shot Cust...   \n",
       "2  Proactive Gradient Conflict Mitigation in Mult...   \n",
       "3  Robust Offline Reinforcement Learning with Lin...   \n",
       "4  Automated Literature Review Using NLP Techniqu...   \n",
       "\n",
       "                                             authors  \\\n",
       "0  ['Zhi Zhang', 'Srishti Yadav', 'Fengze Han', '...   \n",
       "1  ['Shengqu Cai', 'Eric Chan', 'Yunzhi Zhang', '...   \n",
       "2  ['Zhi Zhang', 'Jiayi Shen', 'Congfeng Cao', 'G...   \n",
       "3           ['Cheng Tang', 'Zhishuai Liu', 'Pan Xu']   \n",
       "4  ['Nurshat Fateh Ali', 'Md. Mahdi Mohtasim', 'S...   \n",
       "\n",
       "                                            abstract             published  \\\n",
       "0  The recent advancements in auto-regressive mul...  2024-11-27T18:59:26Z   \n",
       "1  Text-to-image diffusion models produce impress...  2024-11-27T18:58:52Z   \n",
       "2  Advancing towards generalist agents necessitat...  2024-11-27T18:58:22Z   \n",
       "3  The Distributionally Robust Markov Decision Pr...  2024-11-27T18:57:03Z   \n",
       "4  This research presents and compares multiple a...  2024-11-27T18:27:07Z   \n",
       "\n",
       "                                link  \n",
       "0  http://arxiv.org/abs/2411.18620v1  \n",
       "1  http://arxiv.org/abs/2411.18616v1  \n",
       "2  http://arxiv.org/abs/2411.18615v1  \n",
       "3  http://arxiv.org/abs/2411.18612v1  \n",
       "4  http://arxiv.org/abs/2411.18583v1  "
      ]
     },
     "execution_count": 2,
     "metadata": {},
     "output_type": "execute_result"
    }
   ],
   "source": [
    "df = pd.read_csv(\"./paper_df_arxiv.csv\")\n",
    "\n",
    "df.head()"
   ]
  },
  {
   "cell_type": "code",
   "execution_count": 24,
   "metadata": {},
   "outputs": [
    {
     "name": "stderr",
     "output_type": "stream",
     "text": [
      "100%|██████████| 11100/11100 [00:13<00:00, 837.48it/s]\n"
     ]
    }
   ],
   "source": [
    "url = \"http://localhost:7890/add_paper\"\n",
    "\n",
    "\n",
    "for i, row in tqdm(df.iterrows(), total=df.shape[0]):\n",
    "    payload = {\n",
    "        \"title\": row[\"title\"],\n",
    "        \"authors\": \",\".join(ast.literal_eval(row[\"authors\"])),\n",
    "        \"abstract\": row[\"abstract\"],\n",
    "        \"published\": row[\"published\"],\n",
    "        \"link\": row[\"link\"]\n",
    "    }\n",
    "    headers = {\"Content-Type\": \"application/json\"}\n",
    "\n",
    "    response = requests.request(\"POST\", url, json=payload, headers=headers)\n"
   ]
  },
  {
   "cell_type": "code",
   "execution_count": null,
   "metadata": {},
   "outputs": [],
   "source": []
  }
 ],
 "metadata": {
  "kernelspec": {
   "display_name": "base",
   "language": "python",
   "name": "python3"
  },
  "language_info": {
   "codemirror_mode": {
    "name": "ipython",
    "version": 3
   },
   "file_extension": ".py",
   "mimetype": "text/x-python",
   "name": "python",
   "nbconvert_exporter": "python",
   "pygments_lexer": "ipython3",
   "version": "3.12.4"
  }
 },
 "nbformat": 4,
 "nbformat_minor": 2
}
